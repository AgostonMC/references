{
 "cells": [
  {
   "cell_type": "code",
   "execution_count": 3,
   "metadata": {
    "collapsed": true
   },
   "outputs": [
    {
     "name": "stdout",
     "output_type": "stream",
     "text": [
      "25\n"
     ]
    }
   ],
   "source": [
    "\n",
    "\n",
    "# global variables\n",
    "Source = 0\n",
    "\n",
    "\n",
    "# read lines and fill up matrices\n",
    "def read_graph(no_edges, graph, times, capacities):\n",
    "    for i in range(no_edges):\n",
    "        edge = [int(item) for item in input().split()]  # from - to - time - capacity\n",
    "        graph[edge[0]].append(edge[1])\n",
    "        times[edge[0]][edge[1]] = int(edge[2])\n",
    "        capacities[edge[0]][edge[1]] = int(edge[3])\n",
    "\n",
    "\n",
    "# BFS with queue and visited list\n",
    "def bfs(graph, no_nodes, parents, capacities, flows):\n",
    "    visited = [False] * no_nodes\n",
    "    queue = [Source]\n",
    "    visited[Source] = True\n",
    "    # parents so we can get the path in E-K\n",
    "    parents[Source] = -1\n",
    "\n",
    "    while queue:\n",
    "        node = queue.pop(Source)\n",
    "        for neighbour in graph[node]:\n",
    "            if (not visited[neighbour]) and capacities[node][neighbour] > flows[node][neighbour]:\n",
    "                visited[neighbour] = True\n",
    "                queue.append(neighbour)\n",
    "                parents[neighbour] = node\n",
    "\n",
    "    # if we got to the end, return true\n",
    "    return visited[no_nodes - 1]\n",
    "\n",
    "\n",
    "# get the path from parents, so we have an iterable list\n",
    "def get_parent_list(node, parents):\n",
    "    parent_list = []\n",
    "    while node != Source:\n",
    "        parent_list.append(node)\n",
    "        node = parents[node]\n",
    "    return parent_list\n",
    "\n",
    "\n",
    "# the pain\n",
    "def edmonds_karp(graph, no_nodes, capacities, flows, times, time_limit, parents):\n",
    "    max_flow = 0\n",
    "    # while there is a path from source to sink (bfs true)\n",
    "    while bfs(graph, no_nodes, parents, capacities, flows):\n",
    "        # get the path data\n",
    "        path_flow = float(\"Inf\")\n",
    "        path_time = 0\n",
    "        # check all nodes from sink to source\n",
    "        for node in get_parent_list(no_nodes - 1, parents):\n",
    "            # get the parent of current node, so we have the edge\n",
    "            nhelp = parents[node]\n",
    "            # get path data\n",
    "            path_flow = min(path_flow, capacities[nhelp][node] - flows[nhelp][node])\n",
    "            path_time += times[nhelp][node]\n",
    "        # if we have time for the whole path, we can add it\n",
    "        if path_time <= time_limit:\n",
    "            # correct the flows matrix, if we use a road, we add the path_flow to it,\n",
    "            for node in get_parent_list(no_nodes - 1, parents):\n",
    "                nhelp = parents[node]\n",
    "                flows[nhelp][node] += path_flow\n",
    "                # if we do the funny stuff with going back the edge, we subtract it\n",
    "                # (I forgot the proper explanation xddd)\n",
    "                flows[node][nhelp] -= path_flow\n",
    "            # adjust max_flow, if we have time for multiple trucks, we add the path_flow multiple times\n",
    "            while path_time <= time_limit:\n",
    "                max_flow += path_flow\n",
    "                path_time += 1\n",
    "\n",
    "    return max_flow\n",
    "\n",
    "\n",
    "#if __name__ == '__main__':\n",
    "list1 = input().split()\n",
    "N, E, T = [int(item) for item in list1]\n",
    "\n",
    "# graph parts:\n",
    "# capacities[no_of_nodes][no_of_nodes]  -- capacity of edge[from][to]\n",
    "# flows[no_of_nodes][no_of_nodes]       -- flow of edge[from][to]\n",
    "# times[no_of_nodes][no_of_nodes]       -- time of edge[from][to]\n",
    "# graph[no_of_nodes][no_of_nodes]       -- adjacency matrix [from][to]\n",
    "# parents[no_of_nodes]                  -- parents of nodes in BFS tree\n",
    "\n",
    "capacities = [[0] * N for _ in range(N)]\n",
    "flows = [[0] * N for _ in range(N)]\n",
    "times = [[0] * N for _ in range(N)]\n",
    "graph = [[] for _ in range(N)]\n",
    "parents = [-1] * N\n",
    "\n",
    "read_graph(E, graph, times, capacities)\n",
    "\n",
    "print(edmonds_karp(graph, N, capacities, flows, times, T, parents))\n"
   ]
  },
  {
   "cell_type": "code",
   "execution_count": null,
   "metadata": {
    "collapsed": false
   },
   "outputs": [],
   "source": []
  }
 ],
 "metadata": {
  "kernelspec": {
   "display_name": "Python 3",
   "language": "python",
   "name": "python3"
  },
  "language_info": {
   "codemirror_mode": {
    "name": "ipython",
    "version": 2
   },
   "file_extension": ".py",
   "mimetype": "text/x-python",
   "name": "python",
   "nbconvert_exporter": "python",
   "pygments_lexer": "ipython2",
   "version": "2.7.6"
  }
 },
 "nbformat": 4,
 "nbformat_minor": 0
}
